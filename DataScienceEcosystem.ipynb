{
 "cells": [
  {
   "cell_type": "markdown",
   "id": "a785577d",
   "metadata": {},
   "source": [
    "# Data Science Tools and Ecosystem"
   ]
  },
  {
   "cell_type": "markdown",
   "id": "2545e803",
   "metadata": {},
   "source": [
    "In this notebook, Data Science Tools and Ecosystem are summarized."
   ]
  },
  {
   "cell_type": "markdown",
   "id": "32c067bf",
   "metadata": {},
   "source": [
    "**Objectives:**\n",
    "- Popular languages for Data Science\n",
    "- Commonly used libraries for Data Science\n",
    "- Tools used in Data Science\n",
    "- Simple code example of an arithmetic expression\n",
    "- Simple code example of how to convert minutes to hours"
   ]
  },
  {
   "cell_type": "markdown",
   "id": "e0033621",
   "metadata": {},
   "source": [
    "Some of the popular languages that Data Scientists use are:\n",
    "1. Python\n",
    "2. R\n",
    "3. Java\n",
    "4. C++\n",
    "5. SQL"
   ]
  },
  {
   "cell_type": "markdown",
   "id": "edbf2b27",
   "metadata": {},
   "source": [
    "Some of the commonly used libraries used by Data Scientists include:\n",
    "1. pandas \n",
    "2. numpy\n",
    "3. seaborn\n",
    "4. matplotlib \n",
    "5. scikitlearn \n",
    "6. tensorflow \n",
    "7. keras\n",
    "8. dplyr\n",
    "9. ggplot"
   ]
  },
  {
   "cell_type": "markdown",
   "id": "6c932ea0",
   "metadata": {},
   "source": [
    "| Data Science Tools |\n",
    "| - |\n",
    "| Jupyter Notebook |\n",
    "| Rstudio |\n",
    "| VS Code |\n",
    "| Hadoop |\n",
    "| Google Colab |\n",
    "| Pycharm |\n",
    "| IBM Watson Studio |"
   ]
  },
  {
   "cell_type": "markdown",
   "id": "ab799e63",
   "metadata": {},
   "source": [
    "### Below are a few examples of evaluating arithmetic expressions in Python:"
   ]
  },
  {
   "cell_type": "code",
   "execution_count": 2,
   "id": "326e893f",
   "metadata": {},
   "outputs": [
    {
     "data": {
      "text/plain": [
       "17"
      ]
     },
     "execution_count": 2,
     "metadata": {},
     "output_type": "execute_result"
    }
   ],
   "source": [
    "# This a simple arithmetic expression to mutiply then add integers\n",
    "(3*4)+5"
   ]
  },
  {
   "cell_type": "code",
   "execution_count": 8,
   "id": "97556a07",
   "metadata": {
    "scrolled": false
   },
   "outputs": [
    {
     "name": "stdout",
     "output_type": "stream",
     "text": [
      "200 minutes to hours is 3.3333333333333335\n"
     ]
    }
   ],
   "source": [
    "# This will convert 200 minutes to hours by diving by 60\n",
    "\n",
    "minutes = 200\n",
    "hours = minutes / 60\n",
    "print(f'{minutes} minutes to hours is {hours}')"
   ]
  },
  {
   "cell_type": "markdown",
   "id": "9a0f7a67",
   "metadata": {},
   "source": [
    "## Author\n",
    "Romero Rachmat Musadat"
   ]
  }
 ],
 "metadata": {
  "kernelspec": {
   "display_name": "Python 3 (ipykernel)",
   "language": "python",
   "name": "python3"
  },
  "language_info": {
   "codemirror_mode": {
    "name": "ipython",
    "version": 3
   },
   "file_extension": ".py",
   "mimetype": "text/x-python",
   "name": "python",
   "nbconvert_exporter": "python",
   "pygments_lexer": "ipython3",
   "version": "3.9.13"
  }
 },
 "nbformat": 4,
 "nbformat_minor": 5
}
